{
 "cells": [
  {
   "cell_type": "code",
   "execution_count": 1,
   "metadata": {},
   "outputs": [],
   "source": [
    "from IPython.display import clear_output\n",
    "\n",
    "def display_board(board):\n",
    "    clear_output()\n",
    "    print(board[7]+\" | \"+board[8]+\" | \"+board[9])\n",
    "    print(\"---------\")\n",
    "    print(board[4]+\" | \"+board[5]+\" | \"+board[6])\n",
    "    print(\"---------\")\n",
    "    print(board[1]+\" | \"+board[2]+\" | \"+board[3])"
   ]
  },
  {
   "cell_type": "code",
   "execution_count": 2,
   "metadata": {},
   "outputs": [
    {
     "name": "stdout",
     "output_type": "stream",
     "text": [
      "X | O | X\n",
      "---------\n",
      "O | X | O\n",
      "---------\n",
      "X | O | X\n"
     ]
    }
   ],
   "source": [
    "board=['#','X','O','X','O','X','O','X','O','X']\n",
    "display_board(board)"
   ]
  },
  {
   "cell_type": "code",
   "execution_count": 3,
   "metadata": {},
   "outputs": [],
   "source": [
    "def choice():\n",
    "    ch=''\n",
    "    while not(ch=='X' or ch=='O'):\n",
    "        ch=input('Player-1 enter X or O:').upper()\n",
    "    if ch=='X':\n",
    "        return('X','O')\n",
    "    else:\n",
    "        return('O','X')"
   ]
  },
  {
   "cell_type": "code",
   "execution_count": 4,
   "metadata": {},
   "outputs": [],
   "source": [
    "def place_marker(board,marker,position):\n",
    "    board[position]=marker"
   ]
  },
  {
   "cell_type": "code",
   "execution_count": 5,
   "metadata": {},
   "outputs": [
    {
     "name": "stdout",
     "output_type": "stream",
     "text": [
      "& | O | X\n",
      "---------\n",
      "O | X | O\n",
      "---------\n",
      "X | O | X\n"
     ]
    }
   ],
   "source": [
    "place_marker(board,'&',7)\n",
    "display_board(board)\n"
   ]
  },
  {
   "cell_type": "code",
   "execution_count": 6,
   "metadata": {},
   "outputs": [],
   "source": [
    "def check_win(board,mark):\n",
    "    return ((board[1]==board[2]==board[3]==mark) or (board[4]==board[5]==board[6]==mark) or\n",
    "    (board[7]==board[8]==board[9]==mark) or (board[1]==board[4]==board[7]==mark) or\n",
    "    (board[5]==board[2]==board[8]==mark) or (board[9]==board[6]==board[3]==mark) or\n",
    "    (board[1]==board[5]==board[9]==mark) or (board[7]==board[5]==board[3]==mark))"
   ]
  },
  {
   "cell_type": "code",
   "execution_count": 7,
   "metadata": {},
   "outputs": [
    {
     "data": {
      "text/plain": [
       "True"
      ]
     },
     "execution_count": 7,
     "metadata": {},
     "output_type": "execute_result"
    }
   ],
   "source": [
    "check_win(board,'X')"
   ]
  },
  {
   "cell_type": "code",
   "execution_count": 8,
   "metadata": {},
   "outputs": [],
   "source": [
    "import random\n",
    "\n",
    "def choose():\n",
    "    ch=random.randint(0,1)\n",
    "    if ch==0:\n",
    "        return 'Player 1'\n",
    "    else:\n",
    "        return 'Player 2'\n",
    "        "
   ]
  },
  {
   "cell_type": "code",
   "execution_count": 9,
   "metadata": {},
   "outputs": [],
   "source": [
    "def check_space(board,pos):\n",
    "    return board[pos]==' '\n"
   ]
  },
  {
   "cell_type": "code",
   "execution_count": 10,
   "metadata": {},
   "outputs": [],
   "source": [
    "def check_full(board):\n",
    "    for i in range(1,10):\n",
    "        if check_space(board,i):\n",
    "            return False\n",
    "    return True"
   ]
  },
  {
   "cell_type": "code",
   "execution_count": 11,
   "metadata": {},
   "outputs": [],
   "source": [
    "def player_pos(board):\n",
    "    pos=0\n",
    "    while pos not in [1,2,3,4,5,6,7,8,9] or not check_space(board,pos):\n",
    "        pos=int(input(\"Enter your next position from 1 to 9 \"))\n",
    "        \n",
    "    return pos"
   ]
  },
  {
   "cell_type": "code",
   "execution_count": 12,
   "metadata": {},
   "outputs": [],
   "source": [
    "def replay():\n",
    "    return input('Do you want to play again? Enter Yes or No: ').lower().startswith('y')"
   ]
  },
  {
   "cell_type": "code",
   "execution_count": 13,
   "metadata": {},
   "outputs": [
    {
     "name": "stdout",
     "output_type": "stream",
     "text": [
      "X |   |  \n",
      "---------\n",
      "O | O | O\n",
      "---------\n",
      "X | O | X\n",
      "PLAYER 2 HAS WON!!!!\n",
      "Do you want to play again? Enter Yes or No: no\n"
     ]
    }
   ],
   "source": [
    "print(\"********WELCOME TO TIC-TAC-TOE********\")\n",
    "\n",
    "\n",
    "while True:\n",
    "    \n",
    "    board=[' ']*10\n",
    "    \n",
    "    p1_marker,p2_marker=choice()\n",
    "    \n",
    "    turn=choose()\n",
    "    \n",
    "    print(turn + ' goes first')\n",
    "    \n",
    "    play=input(\"Are you ready to play?? Enter yes or no\")\n",
    "    if play=='yes':\n",
    "        game=True\n",
    "    else:\n",
    "        game=False\n",
    "    \n",
    "    while game:\n",
    "        if turn == 'Player 1':\n",
    "            display_board(board)\n",
    "            position=player_pos(board)\n",
    "            place_marker(board,p1_marker,position)\n",
    "            \n",
    "            if check_win(board,p1_marker):\n",
    "                display_board(board)\n",
    "                print('PLAYER 1 HAS WON!!!!')\n",
    "                game= False\n",
    "                \n",
    "            else:\n",
    "                if check_full(board):\n",
    "                    display_board(board)\n",
    "                    print('TIE')\n",
    "                    game = False\n",
    "                else:\n",
    "                    turn= 'Player 2'\n",
    "                    \n",
    "                    \n",
    "        else:\n",
    "            display_board(board)\n",
    "            position=player_pos(board)\n",
    "            place_marker(board,p2_marker,position)\n",
    "            \n",
    "            if check_win(board,p2_marker):\n",
    "                display_board(board)\n",
    "                print('PLAYER 2 HAS WON!!!!')\n",
    "                game= False\n",
    "                \n",
    "            else:\n",
    "                if check_full(board):\n",
    "                    display_board(board)\n",
    "                    print('TIE')\n",
    "                    game = False\n",
    "                else:\n",
    "                    turn= 'Player 1'  \n",
    "                \n",
    "    \n",
    "    \n",
    "    if not replay():\n",
    "        break"
   ]
  },
  {
   "cell_type": "code",
   "execution_count": null,
   "metadata": {},
   "outputs": [],
   "source": []
  },
  {
   "cell_type": "code",
   "execution_count": null,
   "metadata": {},
   "outputs": [],
   "source": []
  }
 ],
 "metadata": {
  "kernelspec": {
   "display_name": "Python 3",
   "language": "python",
   "name": "python3"
  },
  "language_info": {
   "codemirror_mode": {
    "name": "ipython",
    "version": 3
   },
   "file_extension": ".py",
   "mimetype": "text/x-python",
   "name": "python",
   "nbconvert_exporter": "python",
   "pygments_lexer": "ipython3",
   "version": "3.7.4"
  }
 },
 "nbformat": 4,
 "nbformat_minor": 2
}
